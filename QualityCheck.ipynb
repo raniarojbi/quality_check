{
 "cells": [
  {
   "cell_type": "code",
   "execution_count": 12,
   "metadata": {},
   "outputs": [],
   "source": [
    "import os\n",
    "from dotenv import load_dotenv\n",
    "\n",
    "load_dotenv(override=True)\n",
    "\n",
    "OPENAI_API_TYPE = os.getenv('OPENAI_API_TYPE')\n",
    "AZURE_OPENAI_ENDPOINT = os.getenv('AZURE_OPENAI_ENDPOINT')\n",
    "OPENAI_API_VERSION = os.getenv('OPENAI_API_VERSION')\n",
    "AZURE_OPENAI_API_KEY = os.getenv('AZURE_OPENAI_API_KEY')\n",
    "AZURE_OPENAI_LLM_DEPLOYMENT_NAME=os.getenv(\"AZURE_OPENAI_LLM_DEPLOYMENT_NAME\")\n",
    "AZURE_OPENAI_LLM_MODEL_NAME=os.getenv(\"AZURE_OPENAI_LLM_MODEL_NAME\")\n",
    "CONFLUENCE_TOKEN = os.getenv('CONFLUENCE_TOKEN')\n"
   ]
  },
  {
   "cell_type": "code",
   "execution_count": 13,
   "metadata": {},
   "outputs": [
    {
     "name": "stderr",
     "output_type": "stream",
     "text": [
      "Received runtime arguments {'space_key': 'SDV', 'include_attachments': True, 'limit': 100, 'max_pages': 1000}. Passing runtime args to `load` is deprecated. Please pass arguments during initialization instead.\n"
     ]
    },
    {
     "name": "stdout",
     "output_type": "stream",
     "text": [
      "page_content=\"true 40% Content Owner 60% 1 In this article you can find the information about domain Telemetry and Connectivity: Mission Vision Commitment Objective For more information & our current SDV Service portfolio click here . You will find a detailed description of our business area in this PowerPoint. Please request access if you don't have it yet. 30 White #e20074 Our Mission Telemetry and Connectivity Our mission is to be the nerve center of Software-Defined Vehicles, enabling them to perceive, connect, and communicate with the world around them. 60 White #e20074 Our Vision We imagine a world where all vehicles are defined by software to be secure, connected, entertaining, sustainable, automated and user centric. White #e20074 Our Commitment We focus on breaking silos and building foundations for our partners to have access to all type of vehicle data and creating insights into hidden SDV secrets for scaling, performance optimization and achieving excellence. White #e20074 Our Objective We accelerate to bridge the communication gap between vehicles, external systems, and infrastructure, extract data on real time for actionable insights, transform, transmit and analyze data to accelerate SDV trends such as AD. The graphic demonstrates a system for vehicle telemetry and connectivity. It shows how data from vehicles is collected by onboard components, transferred through a network to a central monitoring center, and analyzed for diagnostics, performance, and behavior. This data is then processed and stored in a semantic layer (data lake) and can be accessed by third-party applications through a secure backend platform. The system enables remote control and diagnostics, real-time analytics, and integration with other services: For more Information contact us... 35% 65% Florian Prehn Software Defined Vehicle Business Service Owner 📩 florian.prehn@t-systems.com More Information on... Other... White #e20074 Unique Value Proposition Enhancing Driver Safety: Reduce accidents with real-time data, enabling predictive insights of the vehicle performance and health. Ensure the safety of your customers. Effortless Data Flow: Experience real-time secure data collection and transmission from a diverse range of vehicle sensors and components. For example: Image, Radar, Lidar, Sensor Logging Optimizing Operational Performance: Maximize efficiency and boost fuel economy with telemetry-driven insights that enable preventive maintenance, early error detection, and peak performance optimization. Connected Communication: Seamlessly connect vehicles, infrastructure, and external systems through various communication networks. From cellular and Wi-Fi to advanced options like satellite. Elevating Customer Experience: Seamless remote control, personalized driving experiences, with live vehicle reports. Easier and more convenient to operate your vehicles. Remote Empowerment: Telemetry empowers monitoring and full fledge remote diagnostics and control of your vehicle. Gain real-time insights into vehicle health, status, and performance.image-2024-9-5_12-21-5.pngimage-2024-7-8_10-50-41.pngimage-2024-7-8_10-50-34.pngimage-2024-7-1_12-23-13.pngimage-2024-7-1_12-22-23.pngimage-2024-7-1_12-21-15.pngimage-2024-7-1_12-19-31.pngimage-2024-7-1_12-18-46.pngimage-2024-7-1_12-18-18.pngimage-2024-7-1_12-11-8.pngimage-2024-4-24_12-10-45.pngimage-2024-4-24_12-7-3.pngimage-2024-4-17_11-11-30.pngimage-2024-4-17_10-57-30.pngimage-2024-4-17_10-47-9.pngimage-2024-4-17_10-45-29.pngimage-2024-4-17_10-30-10.pngBildschirmfoto 2024-04-16 um 13.31.51.png\" metadata={'title': 'Telemetry & Connectivity', 'id': '113478755', 'source': 'https://strive.devops.t-systems.net/confluence/pages/viewpage.action?pageId=113478755', 'when': '2024-09-09T11:34:45.323+02:00'}\n",
      "805 documents read from Confluence.\n"
     ]
    }
   ],
   "source": [
    "from langchain.document_loaders import ConfluenceLoader\n",
    "\n",
    "loader = ConfluenceLoader(\n",
    "    url=\"https://strive.devops.t-systems.net/confluence/\",\n",
    "    token=CONFLUENCE_TOKEN\n",
    ")\n",
    "\n",
    "confluence_documents = loader.load(\n",
    "    space_key=\"SDV\", \n",
    "    include_attachments=True, #confluence_docuemnts  becomes a list of dictionaries\n",
    "    limit=100,\n",
    "    max_pages=1000,\n",
    ")\n",
    "\n",
    "print(confluence_documents[1])\n",
    "print(f'{len(confluence_documents)} documents read from Confluence.')"
   ]
  },
  {
   "cell_type": "code",
   "execution_count": 14,
   "metadata": {},
   "outputs": [],
   "source": [
    "from openai import AzureOpenAI\n",
    "client = AzureOpenAI(\n",
    "    api_key=AZURE_OPENAI_API_KEY,\n",
    "    api_version=OPENAI_API_VERSION,\n",
    "    azure_endpoint=AZURE_OPENAI_ENDPOINT, \n",
    ")\n"
   ]
  },
  {
   "cell_type": "code",
   "execution_count": 15,
   "metadata": {},
   "outputs": [],
   "source": [
    "from azure.core.exceptions import HttpResponseError\n",
    "def evaluate_confluence_page(page_content):\n",
    "    prompt = f\"\"\"\n",
    "    You are an AI assistant tasked with evaluating the quality of Confluence page content to ensure it is optimized for use with a chatbot. The following recommendations outline the criteria for high-quality content that is effective for chatbot responses.\n",
    "\n",
    "    Quality Guidelines for Confluence Content:\n",
    "    1. Content Structure: Ensure the text is clear and well-structured to allow the chatbot to understand and extract information accurately.\n",
    "    2. Simplicity: Use simple language and avoid complex sentences. Provide necessary details without unnecessary complexity.\n",
    "    3. Context: Avoid short bullet points that lack context. Use meaningful, coherent sentences that provide complete information.\n",
    "    4. Consistency: Avoid undefined abbreviations and acronyms that can confuse the chatbot. Use consistent terminology throughout the content.\n",
    "    5. Headers: Use headers and sub-headers to include page titles in the context, which helps the chatbot understand the structure better.\n",
    "\n",
    "    Image Handling:\n",
    "    6. Prioritize Text: Whenever possible, prioritize text over images. Images should be used to complement text, not replace it.\n",
    "    7. Text Descriptions: Provide text descriptions for each image to ensure the chatbot can interpret visual information accurately.\n",
    "    8. Quality: Use high-resolution images to facilitate accurate OCR.\n",
    "\n",
    "    Attachments (PDFs, PPTs, World, Excel):\n",
    "    9. Prioritize Text: Prioritize text over attachments whenever possible. If attachments are essential, it is crucial to Provide concise summaries of key points from attachments, including descriptive titles and relevant keywords.\n",
    "    10. Selectable Text: Use PDFs with selectable, searchable text to ensure compatibility with the chatbot.\n",
    "\n",
    "    Overall Recommendations:\n",
    "    12. Text Over Attachments (crucial): Prioritize textual content over attachments. If attachments are essential, it is crucial to Provide concise summaries of key points from attachments, including descriptive titles and relevant keywords.\n",
    "    13. FAQs and Scenarios (optional, not considered in the overall grade when it's absent but considered as a plus when available): When relevant, incorporate FAQs and common scenarios related to the topic when possible.\n",
    "    14. Tagging and Categorization: Tag attachments (PDF, PPT, word, excel, images) with relevant keywords and categorize them appropriately.\n",
    "    15. Summaries (optional, not considered in the overall grade when it's absent but considered as a plus when available):  Consider including a brief summary or abstract at the beginning of long or complex documents. This allows the chatbot to quickly grasp the main points. However, summaries may not be necessary for concise, well-structured documents or those utilizing tables effectively to organize information.\n",
    "\n",
    "    Here is the content of the Confluence page and its attachments for evaluation:\n",
    "\n",
    "    Confluence Page Content:\n",
    "    {page_content}\n",
    "\n",
    "    Based on the above guidelines, please provide a detailed evaluation and grade as Red (needs improvement), Yellow (acceptable but could be better), or Green (meets or exceeds expectations). Provide specific comments and suggestions for improvement where applicable.\n",
    "    Consider the following when grading:\n",
    "    - If images are used within a table structure along with relevant text descriptions, consider them appropriately described.\n",
    "    - If the document is short, concise, and well-structured, it may not require a separate summary.\n",
    "\n",
    "    Additionally, provide an overall grade and overall recommendations based on the individual criteria evaluations.\n",
    "    \"\"\"\n",
    "    try:\n",
    "        response = client.chat.completions.create(\n",
    "            model = AZURE_OPENAI_LLM_DEPLOYMENT_NAME,\n",
    "            messages = [{\"role\": \"user\", \"content\": prompt}]\n",
    "        )\n",
    "    \n",
    "        return response.choices[0].message.content.strip() \n",
    "    except HttpResponseError as e:\n",
    "        print(f\"OpenAI API Error: {e}\")\n",
    "        return \"Error\""
   ]
  },
  {
   "cell_type": "code",
   "execution_count": 17,
   "metadata": {},
   "outputs": [
    {
     "name": "stdout",
     "output_type": "stream",
     "text": [
      "Evaluating Page: ConMob_Responsibilities\n",
      "Based on the content provided, my evaluation is as follows:\n",
      "\n",
      "**Confluence Page Content Evaluation**\n",
      "\n",
      "1. Content Structure: Green. The page contains well-structured information with a clear layout. Information is neatly organized into tables, making it easy for a chatbot to extract and use.\n",
      "   \n",
      "2. Simplicity: Yellow. Although the document uses simple language, the extensive use of acronyms and project codes could be hard for the bot to understand. Adding a project code and acronym glossary could help the bot recognize these terms.\n",
      "\n",
      "3. Context: Red. The page uses numerous short bullet points without providing a clear context or explanation, especially towards the end. Try to add more information to these points to provide complete information.\n",
      "   \n",
      "4. Consistency: Yellow. Many abbreviations and project codes are used without definitions. While some are defined at the beginning, consistency in this practice is lacking. Adding a glossary could fix this issue.\n",
      "   \n",
      "5. Headers: Green. Headers and sub-headers are used correctly, giving the bot an understanding of the section's purpose.\n",
      "\n",
      "**Attachments, Image Handling, and Recommendations Evaluation**\n",
      "\n",
      "6. Attachments are not provided in the excerpt, so an evaluation cannot be given.\n",
      "\n",
      "7. No images are provided in the excerpt, so no evaluation on this aspect can be done.\n",
      "\n",
      "8. No images are provided in the excerpt, so no evaluation on this aspect can be done.\n",
      "\n",
      "9. As no attachments were provided, no evaluation can be given.\n",
      "\n",
      "10. As no PDFs were provided, no evaluation can be given.\n",
      "\n",
      "12. As no attachments were provided, no evaluation can be given. \n",
      "\n",
      "13. FAQs and Scenarios: As per the guidelines, these are not necessary, but would be a valuable addition. Grade: NA. \n",
      "\n",
      "14. Tagging and Categorization: Yellow. The document seems to include key terms related to the projects but does not show the use of tags and proper categorization.\n",
      "\n",
      "15. Summaries: Green. The document seems concise, and a summary might not be needed in this case. However, a brief context about the roles and the projects at the beginning would make improve understanding.\n",
      "\n",
      "**Overall Evaluation**: \n",
      "\n",
      "The Confluence page is Yellow. It meets some of the expectations but has several areas for improvement. Adding a glossary for acronyms and project codes, offering more context to the bullet points, and using proper tagging and categorization would all help improve the quality of the document. As attachments and images were not provided, their evaluation could not be completed.\n"
     ]
    }
   ],
   "source": [
    "specific_page_title = \"ConMob_Responsibilities\"\n",
    "specific_page = next((page for page in confluence_documents if page.metadata['title'] == specific_page_title), None)\n",
    "\n",
    "if specific_page:\n",
    "    print(f\"Evaluating Page: {specific_page.metadata['title']}\")\n",
    "\n",
    "page_content_with_metadata = f\"Page Title: {specific_page.metadata['title']}\\n\\n{specific_page.page_content}\"\n",
    "\n",
    "evaluation_results = evaluate_confluence_page(page_content_with_metadata)\n",
    "if evaluation_results != \"Error\":\n",
    "        print(evaluation_results)\n",
    "else:\n",
    "    print(f\"Page with title '{specific_page_title}' not found.\")"
   ]
  }
 ],
 "metadata": {
  "kernelspec": {
   "display_name": "Python 3",
   "language": "python",
   "name": "python3"
  },
  "language_info": {
   "codemirror_mode": {
    "name": "ipython",
    "version": 3
   },
   "file_extension": ".py",
   "mimetype": "text/x-python",
   "name": "python",
   "nbconvert_exporter": "python",
   "pygments_lexer": "ipython3",
   "version": "3.11.9"
  }
 },
 "nbformat": 4,
 "nbformat_minor": 2
}
